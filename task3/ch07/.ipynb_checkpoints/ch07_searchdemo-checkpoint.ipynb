{
 "cells": [
  {
   "cell_type": "code",
   "execution_count": 1,
   "metadata": {},
   "outputs": [
    {
     "data": {
      "text/plain": [
       "'\\nThis is the image search demo in Section 7.6.\\n'"
      ]
     },
     "execution_count": 1,
     "metadata": {},
     "output_type": "execute_result"
    }
   ],
   "source": [
    "# -*- coding: utf-8 -*-\n",
    "import cherrypy\n",
    "import pickle\n",
    "import urllib\n",
    "import os\n",
    "from numpy import *\n",
    "#from PCV.tools.imtools import get_imlist\n",
    "from PCV.imagesearch import imagesearch\n",
    "\n",
    "\"\"\"\n",
    "This is the image search demo in Section 7.6.\n",
    "\"\"\"\n"
   ]
  },
  {
   "cell_type": "code",
   "execution_count": 2,
   "metadata": {},
   "outputs": [],
   "source": [
    "\n",
    "class SearchDemo:\n",
    "\n",
    "    def __init__(self):\n",
    "        # 载入图像列表\n",
    "        self.path = 'E:/Python/pythonwatch/data/first1000/'\n",
    "        #self.path = 'E:/Python/pythonwatch/data/first1000'\n",
    "        self.imlist = [os.path.join(self.path,f) for f in os.listdir(self.path) if f.endswith('.jpg')]\n",
    "        #self.imlist = get_imlist('./first500/')\n",
    "        #self.imlist = get_imlist('E:/python/isoutu/first500/')\n",
    "        self.nbr_images = len(self.imlist)\n",
    "        self.ndx = range(self.nbr_images)\n",
    "\n",
    "        # 载入词汇\n",
    "        f = open('E:/Python/pythonwatch/data/first1000/vocabulary.pkl', 'rb')\n",
    "        self.voc = pickle.load(f)\n",
    "        f.close()\n",
    "\n",
    "        # 显示搜索返回的图像数\n",
    "        self.maxres = 49\n",
    "\n",
    "        # header and footer html\n",
    "        self.header = \"\"\"\n",
    "            <!doctype html>\n",
    "            <head>\n",
    "            <title>Image search</title>\n",
    "            </head>\n",
    "            <body>\n",
    "            \"\"\"\n",
    "        self.footer = \"\"\"\n",
    "            </body>\n",
    "            </html>\n",
    "            \"\"\"\n",
    "        \n",
    "    def index(self, query=None):\n",
    "        self.src = imagesearch.Searcher('testImaAdd.db', self.voc)\n",
    "\n",
    "        html = self.header\n",
    "        html += \"\"\"\n",
    "            <br />\n",
    "            Click an image to search. <a href='?query='> Random selection </a> of images.\n",
    "            <br /><br />\n",
    "            \"\"\"\n",
    "        if query:\n",
    "            # query the database and get top images\n",
    "            #查询数据库，并获取前面的图像\n",
    "            res = self.src.query(query)[:self.maxres]\n",
    "            for dist, ndx in res:\n",
    "                imname = self.src.get_filename(ndx)\n",
    "                html += \"<a href='?query=\"+imname+\"'>\"\n",
    "                html += \"<img src='\"+imname+\"' width='200' />\"\n",
    "                html += \"</a>\"\n",
    "            # show random selection if no query\n",
    "            # 如果没有查询图像则随机显示一些图像\n",
    "        else:\n",
    "            random.shuffle(self.ndx)\n",
    "            for i in self.ndx[:self.maxres]:\n",
    "                imname = self.imlist[i]\n",
    "                html += \"<a href='?query=\"+imname+\"'>\"\n",
    "                html += \"<img src='\"+imname+\"' width='200' />\"\n",
    "                html += \"</a>\"\n",
    "\n",
    "        html += self.footer\n",
    "        return html\n",
    "\n",
    "    index.exposed = True\n"
   ]
  },
  {
   "cell_type": "code",
   "execution_count": null,
   "metadata": {},
   "outputs": [
    {
     "name": "stderr",
     "output_type": "stream",
     "text": [
      "[30/Apr/2019:01:49:38] ENGINE Listening for SIGTERM.\n",
      "[30/Apr/2019:01:49:38] ENGINE Bus STARTING\n",
      "CherryPy Checker:\n",
      "'tmp/' is not an absolute path.\n",
      "'tmp/' (root + dir) is not an existing filesystem path.\n",
      "section: [global]\n",
      "root: 'tmp/'\n",
      "dir: ''\n",
      "\n",
      "CherryPy Checker:\n",
      "'tmp/' is not an absolute path.\n",
      "'tmp/' (root + dir) is not an existing filesystem path.\n",
      "section: [/]\n",
      "root: 'tmp/'\n",
      "dir: ''\n",
      "\n",
      "[30/Apr/2019:01:49:38] ENGINE Set handler for console events.\n",
      "[30/Apr/2019:01:49:38] ENGINE Started monitor thread 'Autoreloader'.\n",
      "[30/Apr/2019:01:49:38] ENGINE Serving on http://127.0.0.1:8080\n",
      "[30/Apr/2019:01:49:38] ENGINE Bus STARTED\n"
     ]
    }
   ],
   "source": [
    "\n",
    "#conf_path = os.path.dirname(os.path.abspath(__file__))\n",
    "#conf_path = os.path.join(conf_path, \"service.conf\")\n",
    "#cherrypy.config.update(conf_path)\n",
    "#cherrypy.quickstart(SearchDemo())\n",
    "\n",
    "cherrypy.quickstart(SearchDemo(), '/', config=os.path.join(os.path.dirname('__file__'), 'service.conf'))"
   ]
  },
  {
   "cell_type": "code",
   "execution_count": null,
   "metadata": {},
   "outputs": [],
   "source": []
  }
 ],
 "metadata": {
  "kernelspec": {
   "display_name": "Python 2",
   "language": "python",
   "name": "python3"
  },
  "language_info": {
   "codemirror_mode": {
    "name": "ipython",
    "version": 2
   },
   "file_extension": ".py",
   "mimetype": "text/x-python",
   "name": "python",
   "nbconvert_exporter": "python",
   "pygments_lexer": "ipython2",
   "version": "2.7.14"
  }
 },
 "nbformat": 4,
 "nbformat_minor": 2
}
